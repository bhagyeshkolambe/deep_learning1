{
 "cells": [
  {
   "cell_type": "code",
   "execution_count": 14,
   "metadata": {},
   "outputs": [
    {
     "name": "stdout",
     "output_type": "stream",
     "text": [
      "torch.Size([10, 10])\n",
      "torch.Size([10, 1])\n"
     ]
    }
   ],
   "source": [
    "import torch\n",
    "import torch.nn as nn\n",
    "# Defining input size, hidden layer size, output size and batch size respectively\n",
    "n_in, n_h, n_out, batch_size = 10, 5, 1, 10\n",
    "\n",
    "# Create dummy input and target tensors (data)\n",
    "x = torch.randn(batch_size, n_in)\n",
    "y = torch.tensor([[1.0], [0.0], [0.0], [1.0], [1.0], [1.0], [0.0], [0.0], [1.0], [1.0]])\n",
    "print(x.size())\n",
    "print(y.size())"
   ]
  },
  {
   "cell_type": "code",
   "execution_count": 15,
   "metadata": {},
   "outputs": [],
   "source": [
    "# Create a model\n",
    "model = nn.Sequential(nn.Linear(n_in, n_h),\n",
    "   nn.ReLU(),\n",
    "   nn.Linear(n_h, n_out),\n",
    "   nn.Sigmoid())\n",
    "\n",
    "# Constructing the loss function\n",
    "criterion = torch.nn.MSELoss()\n",
    "# Constructing the optimizer (SGD in this case)\n",
    "optimizer = torch.optim.SGD(model.parameters(), lr = 0.01)"
   ]
  },
  {
   "cell_type": "code",
   "execution_count": 16,
   "metadata": {},
   "outputs": [
    {
     "name": "stdout",
     "output_type": "stream",
     "text": [
      "epoch:  0  loss:  0.23956060409545898\n",
      "epoch:  1  loss:  0.23942799866199493\n",
      "epoch:  2  loss:  0.23929551243782043\n",
      "epoch:  3  loss:  0.23916319012641907\n",
      "epoch:  4  loss:  0.23903095722198486\n",
      "epoch:  5  loss:  0.23889894783496857\n",
      "epoch:  6  loss:  0.23876699805259705\n",
      "epoch:  7  loss:  0.23863585293293\n",
      "epoch:  8  loss:  0.23850512504577637\n",
      "epoch:  9  loss:  0.2383745014667511\n",
      "epoch:  10  loss:  0.23824401199817657\n",
      "epoch:  11  loss:  0.23811373114585876\n",
      "epoch:  12  loss:  0.2379836142063141\n",
      "epoch:  13  loss:  0.23785345256328583\n",
      "epoch:  14  loss:  0.2377234399318695\n",
      "epoch:  15  loss:  0.23759357631206512\n",
      "epoch:  16  loss:  0.2374638020992279\n",
      "epoch:  17  loss:  0.23733416199684143\n",
      "epoch:  18  loss:  0.23720479011535645\n",
      "epoch:  19  loss:  0.23707535862922668\n",
      "epoch:  20  loss:  0.236949160695076\n",
      "epoch:  21  loss:  0.236842542886734\n",
      "epoch:  22  loss:  0.2367359697818756\n",
      "epoch:  23  loss:  0.236629456281662\n",
      "epoch:  24  loss:  0.23652306199073792\n",
      "epoch:  25  loss:  0.23641681671142578\n",
      "epoch:  26  loss:  0.23631051182746887\n",
      "epoch:  27  loss:  0.23620426654815674\n",
      "epoch:  28  loss:  0.236098051071167\n",
      "epoch:  29  loss:  0.23599191009998322\n",
      "epoch:  30  loss:  0.2358858287334442\n",
      "epoch:  31  loss:  0.23577988147735596\n",
      "epoch:  32  loss:  0.23567397892475128\n",
      "epoch:  33  loss:  0.23556804656982422\n",
      "epoch:  34  loss:  0.23546214401721954\n",
      "epoch:  35  loss:  0.23535633087158203\n",
      "epoch:  36  loss:  0.2352505475282669\n",
      "epoch:  37  loss:  0.23514480888843536\n",
      "epoch:  38  loss:  0.23503926396369934\n",
      "epoch:  39  loss:  0.23493364453315735\n",
      "epoch:  40  loss:  0.23482802510261536\n",
      "epoch:  41  loss:  0.23472242057323456\n",
      "epoch:  42  loss:  0.23461690545082092\n",
      "epoch:  43  loss:  0.23451140522956848\n",
      "epoch:  44  loss:  0.2344059944152832\n",
      "epoch:  45  loss:  0.23430070281028748\n",
      "epoch:  46  loss:  0.23419535160064697\n",
      "epoch:  47  loss:  0.23408997058868408\n",
      "epoch:  48  loss:  0.23398463428020477\n",
      "epoch:  49  loss:  0.23387937247753143\n"
     ]
    }
   ],
   "source": [
    "# Gradient Descent\n",
    "for epoch in range(50):\n",
    "   # Forward pass: Compute predicted y by passing x to the model\n",
    "   y_pred = model(x)\n",
    "\n",
    "   # Compute and print loss\n",
    "   loss = criterion(y_pred, y)\n",
    "   print('epoch: ', epoch,' loss: ', loss.item())\n",
    "\n",
    "   # Zero gradients, perform a backward pass, and update the weights.\n",
    "   optimizer.zero_grad()\n",
    "\n",
    "   # perform a backward pass (backpropagation)\n",
    "   loss.backward()\n",
    "\n",
    "   # Update the parameters\n",
    "   optimizer.step()"
   ]
  },
  {
   "cell_type": "code",
   "execution_count": null,
   "metadata": {},
   "outputs": [],
   "source": []
  }
 ],
 "metadata": {
  "kernelspec": {
   "display_name": "Python 3",
   "language": "python",
   "name": "python3"
  },
  "language_info": {
   "codemirror_mode": {
    "name": "ipython",
    "version": 3
   },
   "file_extension": ".py",
   "mimetype": "text/x-python",
   "name": "python",
   "nbconvert_exporter": "python",
   "pygments_lexer": "ipython3",
   "version": "3.8.10"
  }
 },
 "nbformat": 4,
 "nbformat_minor": 2
}
